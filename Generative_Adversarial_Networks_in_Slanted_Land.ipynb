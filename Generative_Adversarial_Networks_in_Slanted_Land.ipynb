{
  "nbformat": 4,
  "nbformat_minor": 0,
  "metadata": {
    "colab": {
      "name": "Generative Adversarial Networks in Slanted Land",
      "provenance": [],
      "collapsed_sections": [],
      "authorship_tag": "ABX9TyOZMt7KGtoh/V7/0dCvZ8ON",
      "include_colab_link": true
    },
    "kernelspec": {
      "name": "python3",
      "display_name": "Python 3"
    },
    "language_info": {
      "name": "python"
    }
  },
  "cells": [
    {
      "cell_type": "markdown",
      "metadata": {
        "id": "view-in-github",
        "colab_type": "text"
      },
      "source": [
        "<a href=\"https://colab.research.google.com/github/manuel-suarez/introduction_to_gans/blob/main/Generative_Adversarial_Networks_in_Slanted_Land.ipynb\" target=\"_parent\"><img src=\"https://colab.research.google.com/assets/colab-badge.svg\" alt=\"Open In Colab\"/></a>"
      ]
    },
    {
      "cell_type": "markdown",
      "source": [
        "### Imports"
      ],
      "metadata": {
        "id": "lQLP7f2nQczs"
      }
    },
    {
      "cell_type": "code",
      "execution_count": 1,
      "metadata": {
        "id": "5QxIy9v1QFFi"
      },
      "outputs": [],
      "source": [
        "# Imports\n",
        "\n",
        "import numpy as np\n",
        "from numpy import random\n",
        "from matplotlib import pyplot as plt\n",
        "%matplotlib inline"
      ]
    },
    {
      "cell_type": "markdown",
      "source": [
        "### Plotting functions"
      ],
      "metadata": {
        "id": "zu3Csl_9QrkE"
      }
    },
    {
      "cell_type": "code",
      "source": [
        "# Drawing function\n",
        "\n",
        "def view_samples(samples, m, n):\n",
        "    fig, axes = plt.subplots(figsize=(10, 10), nrows=m, ncols=n, sharey=True, sharex=True)\n",
        "    for ax, img in zip(axes.flatten(), samples):\n",
        "        ax.xaxis.set_visible(False)\n",
        "        ax.yaxis.set_visible(False)\n",
        "        im = ax.imshow(1-img.reshape((2,2)), cmap='Greys_r')  \n",
        "    return fig, axes"
      ],
      "metadata": {
        "id": "Uz5zFhpXQeN8"
      },
      "execution_count": 2,
      "outputs": []
    },
    {
      "cell_type": "markdown",
      "source": [
        "## Examples of faces"
      ],
      "metadata": {
        "id": "16JxLbS4Qvqk"
      }
    },
    {
      "cell_type": "code",
      "source": [
        "# Examples of faces\n",
        "faces = [np.array([1,0,0,1]),\n",
        "         np.array([0.9,0.1,0.2,0.8]),\n",
        "         np.array([0.9,0.2,0.1,0.8]),\n",
        "         np.array([0.8,0.1,0.2,0.9]),\n",
        "         np.array([0.8,0.2,0.1,0.9])]\n",
        "    \n",
        "_ = view_samples(faces, 1, 4)"
      ],
      "metadata": {
        "colab": {
          "base_uri": "https://localhost:8080/",
          "height": 156
        },
        "id": "19DF1cbcQtvT",
        "outputId": "75115582-511d-429c-fa8e-0a34935aed9e"
      },
      "execution_count": 3,
      "outputs": [
        {
          "output_type": "display_data",
          "data": {
            "text/plain": [
              "<Figure size 720x720 with 4 Axes>"
            ],
            "image/png": "[encoded data removed]"
          },
          "metadata": {
            "needs_background": "light"
          }
        }
      ]
    },
    {
      "cell_type": "markdown",
      "source": [
        "## Examples of noises"
      ],
      "metadata": {
        "id": "l_M2gLTxQ82w"
      }
    },
    {
      "cell_type": "code",
      "source": [
        "# Examples of noisy images\n",
        "noise = [np.random.randn(2,2) for i in range(20)]\n",
        "def generate_random_image():\n",
        "    return [np.random.random(), np.random.random(), np.random.random(), np.random.random()]\n",
        "\n",
        "_ = view_samples(noise, 4,5)"
      ],
      "metadata": {
        "colab": {
          "base_uri": "https://localhost:8080/",
          "height": 556
        },
        "id": "kZJ1YZ-rQzDi",
        "outputId": "114e638a-4dd1-4185-b6c1-dfa37fedd2f9"
      },
      "execution_count": 4,
      "outputs": [
        {
          "output_type": "display_data",
          "data": {
            "text/plain": [
              "<Figure size 720x720 with 20 Axes>"
            ],
            "image/png": "[encoded data removed]"
          },
          "metadata": {
            "needs_background": "light"
          }
        }
      ]
    },
    {
      "cell_type": "markdown",
      "source": [
        "## Building the neural network"
      ],
      "metadata": {
        "id": "lrurPwNfRK0V"
      }
    },
    {
      "cell_type": "code",
      "source": [
        "# The sigmoid activation function\n",
        "def sigmoid(x):\n",
        "    return np.exp(x)/(1.0+np.exp(x))"
      ],
      "metadata": {
        "id": "vaBfbb90Q-Cz"
      },
      "execution_count": 5,
      "outputs": []
    },
    {
      "cell_type": "code",
      "source": [
        "class Discriminator():\n",
        "  def __init__(self):\n",
        "    self.weights = np.array([np.random.normal() for i in range(4)])\n",
        "    self.bias = np.random.normal()\n",
        "\n",
        "  def forward(self, x):\n",
        "    # Forward pass\n",
        "    return sigmoid(np.dot(x, self.weights) + self.bias)\n",
        "\n",
        "  def error_from_image(self, image):\n",
        "    prediction = self.forward(image)\n",
        "    # We want the prediction to be 1, so the error is -log(prediction)\n",
        "    return -np.log(prediction)\n",
        "\n",
        "  def derivatives_from_image(self, image):\n",
        "    prediction = self.forward(image)\n",
        "    derivatives_weights = -image * (1 - prediction)\n",
        "    derivative_bias = -(1 - prediction)\n",
        "    return derivatives_weights, derivative_bias\n",
        "\n",
        "  def update_from_image(self, x):\n",
        "    ders = self.derivatives_from_image(x)\n",
        "    self.weights -= learning_rate * ders[0]\n",
        "    self.bias -= learning_rate * ders[1]\n",
        "\n",
        "  def error_from_noise(self, noise):\n",
        "    prediction = self.forward(noise)\n",
        "    # We want the prediction to be 0, so the error is -log(1 - prediction)\n",
        "    return -np.log(1 - prediction)\n",
        "\n",
        "  def derivatives_from_noise(self, noise):\n",
        "    prediction = self.forward(noise)\n",
        "    derivatives_weights = noise * prediction\n",
        "    derivatives_bias = prediction\n",
        "    return derivatives_weights, derivatives_bias\n",
        "\n",
        "  def update_from_noise(self, noise):\n",
        "    ders = self.derivatives_from_noise(noise)\n",
        "    self.weights -= learning_rate * ders[0]\n",
        "    self.bias -= learning_rate * ders[1]"
      ],
      "metadata": {
        "id": "axzgywRcROTy"
      },
      "execution_count": 11,
      "outputs": []
    },
    {
      "cell_type": "code",
      "source": [
        "class Generator():\n",
        "  def __init__(self):\n",
        "    self.weights = np.array([np.random.normal() for i in range(4)])\n",
        "    self.biases = np.array([np.random.normal() for i in range(4)])\n",
        "\n",
        "  def forward(self, z):\n",
        "    # Forward pass\n",
        "    return sigmoid(z * self.weights + self.biases)\n",
        "\n",
        "  def error(self, z, discriminator):\n",
        "    x = self.forward(z)\n",
        "    # We want the prediction to be 0, so the error is -log(1 - prediction)\n",
        "    y = discriminator.forward(x)\n",
        "    return -np.log(y)\n",
        "\n",
        "  def derivatives(self, z, discriminator):\n",
        "    discriminator_weights = discriminator.weights\n",
        "    discriminator_bias = discriminator.bias\n",
        "    x = self.forward(z)\n",
        "    y = discriminator.forward(x)\n",
        "    factor = -(1-y) * discriminator_weights * x * (1 - x)\n",
        "    derivatives_weights = factor * z\n",
        "    derivative_bias = factor\n",
        "    return derivatives_weights, derivative_bias\n",
        "\n",
        "  def update(self, z, discriminator):\n",
        "    error_before = self.error(z, discriminator)\n",
        "    ders = self.derivatives(z, discriminator)\n",
        "    self.weights -= learning_rate * ders[0]\n",
        "    self.biases -= learning_rate * ders[1]\n",
        "    error_after = self.error(z, discriminator)"
      ],
      "metadata": {
        "id": "fmQJTR1sSdo_"
      },
      "execution_count": 7,
      "outputs": []
    },
    {
      "cell_type": "markdown",
      "source": [
        "## Training"
      ],
      "metadata": {
        "id": "pAm5bcHDUc4c"
      }
    },
    {
      "cell_type": "code",
      "source": [
        "# Set random seed\n",
        "np.random.seed(42)\n",
        "\n",
        "# Hyperparameters\n",
        "learning_rate = 0.01\n",
        "epochs = 1000\n",
        "\n",
        "# The GAN\n",
        "D = Discriminator()\n",
        "G = Generator()\n",
        "\n",
        "# For the error plot\n",
        "errors_discriminator = []\n",
        "errors_generator = []\n",
        "\n",
        "for epoch in range(epochs):\n",
        "  for face in faces:\n",
        "    # Update the discriminator weights from the real face\n",
        "    D.update_from_image(face)\n",
        "\n",
        "    # Pick a random number to generate a fake face\n",
        "    z = random.rand()\n",
        "\n",
        "    # Calculate the discriminator error\n",
        "    errors_discriminator.append(sum(D.error_from_image(face) + D.error_from_noise(z)))\n",
        "\n",
        "    # Calculate the generator error\n",
        "    errors_generator.append(G.error(z, D))\n",
        "\n",
        "    # Build a fake face\n",
        "    noise = G.forward(z)\n",
        "\n",
        "    # Update the discriminator weights from the fake face\n",
        "    D.update_from_noise(noise)\n",
        "\n",
        "    # Update the generator weights from the fake face\n",
        "    G.update(z, D)"
      ],
      "metadata": {
        "id": "NL3nPMoQUbds"
      },
      "execution_count": 12,
      "outputs": []
    },
    {
      "cell_type": "code",
      "source": [
        ""
      ],
      "metadata": {
        "id": "_yRMqnmHVQ6m"
      },
      "execution_count": null,
      "outputs": []
    }
  ]
}