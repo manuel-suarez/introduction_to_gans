{
  "nbformat": 4,
  "nbformat_minor": 0,
  "metadata": {
    "colab": {
      "name": "Generative Adversarial Networks in Slanted Land",
      "provenance": [],
      "authorship_tag": "ABX9TyM2bU/5okUrsrha2tmx673z",
      "include_colab_link": true
    },
    "kernelspec": {
      "name": "python3",
      "display_name": "Python 3"
    },
    "language_info": {
      "name": "python"
    }
  },
  "cells": [
    {
      "cell_type": "markdown",
      "metadata": {
        "id": "view-in-github",
        "colab_type": "text"
      },
      "source": [
        "<a href=\"https://colab.research.google.com/github/manuel-suarez/introduction_to_gans/blob/main/Generative_Adversarial_Networks_in_Slanted_Land.ipynb\" target=\"_parent\"><img src=\"https://colab.research.google.com/assets/colab-badge.svg\" alt=\"Open In Colab\"/></a>"
      ]
    },
    {
      "cell_type": "markdown",
      "source": [
        "### Imports"
      ],
      "metadata": {
        "id": "lQLP7f2nQczs"
      }
    },
    {
      "cell_type": "code",
      "execution_count": 1,
      "metadata": {
        "id": "5QxIy9v1QFFi"
      },
      "outputs": [],
      "source": [
        "# Imports\n",
        "\n",
        "import numpy as np\n",
        "from numpy import random\n",
        "from matplotlib import pyplot as plt\n",
        "%matplotlib inline"
      ]
    },
    {
      "cell_type": "markdown",
      "source": [
        "### Plotting functions"
      ],
      "metadata": {
        "id": "zu3Csl_9QrkE"
      }
    },
    {
      "cell_type": "code",
      "source": [
        "# Drawing function\n",
        "\n",
        "def view_samples(samples, m, n):\n",
        "    fig, axes = plt.subplots(figsize=(10, 10), nrows=m, ncols=n, sharey=True, sharex=True)\n",
        "    for ax, img in zip(axes.flatten(), samples):\n",
        "        ax.xaxis.set_visible(False)\n",
        "        ax.yaxis.set_visible(False)\n",
        "        im = ax.imshow(1-img.reshape((2,2)), cmap='Greys_r')  \n",
        "    return fig, axes"
      ],
      "metadata": {
        "id": "Uz5zFhpXQeN8"
      },
      "execution_count": 2,
      "outputs": []
    },
    {
      "cell_type": "markdown",
      "source": [
        "## Examples of faces"
      ],
      "metadata": {
        "id": "16JxLbS4Qvqk"
      }
    },
    {
      "cell_type": "code",
      "source": [
        "# Examples of faces\n",
        "faces = [np.array([1,0,0,1]),\n",
        "         np.array([0.9,0.1,0.2,0.8]),\n",
        "         np.array([0.9,0.2,0.1,0.8]),\n",
        "         np.array([0.8,0.1,0.2,0.9]),\n",
        "         np.array([0.8,0.2,0.1,0.9])]\n",
        "    \n",
        "_ = view_samples(faces, 1, 4)"
      ],
      "metadata": {
        "colab": {
          "base_uri": "https://localhost:8080/",
          "height": 156
        },
        "id": "19DF1cbcQtvT",
        "outputId": "75115582-511d-429c-fa8e-0a34935aed9e"
      },
      "execution_count": 3,
      "outputs": [
        {
          "output_type": "display_data",
          "data": {
            "text/plain": [
              "<Figure size 720x720 with 4 Axes>"
            ],
            "image/png": "[encoded data removed]"
          },
          "metadata": {
            "needs_background": "light"
          }
        }
      ]
    },
    {
      "cell_type": "code",
      "source": [
        ""
      ],
      "metadata": {
        "id": "kZJ1YZ-rQzDi"
      },
      "execution_count": null,
      "outputs": []
    }
  ]
}